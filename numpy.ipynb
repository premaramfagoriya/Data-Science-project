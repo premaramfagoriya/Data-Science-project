{
 "cells": [
  {
   "cell_type": "code",
   "execution_count": 1,
   "metadata": {},
   "outputs": [
    {
     "name": "stdout",
     "output_type": "stream",
     "text": [
      "[12 25 36 20 16]\n",
      "<class 'numpy.ndarray'>\n",
      "2d array is :\n",
      " [[1 2 3]\n",
      " [5 6 7]]\n",
      "3d array is :\n",
      "[[1 2 3]\n",
      " [4 5 6]\n",
      " [7 8 9]]\n"
     ]
    }
   ],
   "source": [
    "import numpy as np\n",
    "a= np.array([12,25,36,20,16])#creating 1d array\n",
    "print(a)\n",
    "print(type(a))\n",
    "# creating 2d array \n",
    "a2= np.array([[1,2,3],[5,6,7]])\n",
    "print('2d array is :\\n',a2)\n",
    "#3d arraay(tensor)\n",
    "a3= np.array([[1,2,3],[4,5,6],[7,8,9]])\n",
    "print('3d array is :')\n",
    "print(a3)"
   ]
  },
  {
   "cell_type": "code",
   "execution_count": 2,
   "metadata": {},
   "outputs": [
    {
     "name": "stdout",
     "output_type": "stream",
     "text": [
      "0.0\n",
      "0.011426687240600586\n"
     ]
    }
   ],
   "source": [
    "import time\n",
    "a=[i for i in range(10000)]\n",
    "b=[i for i in range(10000,20000)]\n",
    "c=[]\n",
    "s=time.time()\n",
    "for i in range(len(a)):\n",
    "    c.append(a[i]+b[i])\n",
    "print(time.time()-s)\n",
    "\n",
    "\n",
    "a1=np.arange(10000)\n",
    "b1=np.arange(10000,20000)\n",
    "s1= time.time()\n",
    "c1=a1+b1\n",
    "print(time.time()-s1)\n",
    "\n"
   ]
  },
  {
   "cell_type": "code",
   "execution_count": 6,
   "metadata": {},
   "outputs": [
    {
     "name": "stdout",
     "output_type": "stream",
     "text": [
      "[1 2 3 4 5 6 7 8 9]\n",
      "[11 13 15 17 19]\n"
     ]
    }
   ],
   "source": [
    "n=np.arange(1,10)\n",
    "print(n)\n",
    "m=np.arange(11,20,2)\n",
    "print(m)"
   ]
  },
  {
   "cell_type": "code",
   "execution_count": 18,
   "metadata": {},
   "outputs": [
    {
     "name": "stdout",
     "output_type": "stream",
     "text": [
      "[[12 13 14 15]\n",
      " [16 17 18 19]\n",
      " [20 21 22 23]]\n",
      "creating 3d array\n",
      "[[[12 13 14]\n",
      "  [15 16 17]\n",
      "  [18 19 20]\n",
      "  [21 22 23]]]\n",
      "\n",
      " 4d array \n",
      "[[[[12 13 14]\n",
      "   [15 16 17]\n",
      "   [18 19 20]\n",
      "   [21 22 23]]]]\n",
      "printing sizes and shapes of the arrays\n",
      "printing shape of n4: (1, 4, 3)\n",
      "printing the size of n4: 12\n",
      "printing the dimension of n4 : 3\n",
      "converting any dimension aray into simple 1d array : \n",
      "\n",
      "[12 13 14 15 16 17 18 19 20 21 22 23]\n"
     ]
    }
   ],
   "source": [
    "#creating the 2d,3d arrays\n",
    "n1=np.arange(12,24)\n",
    "n1=n1.reshape((3,4))\n",
    "print(n1)\n",
    "print('creating 3d array')\n",
    "n4=n1.reshape((1,4,3))\n",
    "print(n4)\n",
    "print('\\n 4d array ')\n",
    "n5=n4.reshape((1,1,4,3))\n",
    "print(n5)\n",
    "print('printing sizes and shapes of the arrays')\n",
    "print('printing shape of n4:',np.shape(n4))\n",
    "print(\"printing the size of n4:\", np.size(n4))\n",
    "print('printing the dimension of n4 :', np.ndim(n4))\n",
    "print('converting any dimension aray into simple 1d array : \\n')\n",
    "print(n4.flatten())"
   ]
  },
  {
   "cell_type": "code",
   "execution_count": 24,
   "metadata": {},
   "outputs": [
    {
     "name": "stdout",
     "output_type": "stream",
     "text": [
      "[[[0. 0.]\n",
      "  [0. 0.]\n",
      "  [0. 0.]\n",
      "  [0. 0.]\n",
      "  [0. 0.]]]\n",
      "[[1. 1.]\n",
      " [1. 1.]\n",
      " [1. 1.]\n",
      " [1. 1.]\n",
      " [1. 1.]]\n",
      "printing the identity matrix\n",
      "\n",
      "[[1. 0. 0. 0.]\n",
      " [0. 1. 0. 0.]\n",
      " [0. 0. 1. 0.]\n",
      " [0. 0. 0. 1.]]\n"
     ]
    }
   ],
   "source": [
    "#creating the zeroes or ones array of any dimension\n",
    "z=np.zeros((1,5,2))\n",
    "print(z)\n",
    "o=np.ones((5,2))\n",
    "print(o)\n",
    "print('printing the identity matrix\\n')\n",
    "i=np.identity(4)\n",
    "print(i)"
   ]
  },
  {
   "cell_type": "code",
   "execution_count": 27,
   "metadata": {},
   "outputs": [
    {
     "name": "stdout",
     "output_type": "stream",
     "text": [
      "[[ 0  1  2  3]\n",
      " [ 4  5  6  7]\n",
      " [ 8  9 10 11]]\n",
      "after adding 1 we get \n",
      "[[ 1  2  3  4]\n",
      " [ 5  6  7  8]\n",
      " [ 9 10 11 12]]\n"
     ]
    }
   ],
   "source": [
    "#scalar operation\n",
    "c1=np.arange(12).reshape((3,4))\n",
    "print(c1)\n",
    "print(f'after adding 1 we get \\n{c1+1}')"
   ]
  },
  {
   "cell_type": "code",
   "execution_count": 32,
   "metadata": {},
   "outputs": [
    {
     "name": "stdout",
     "output_type": "stream",
     "text": [
      "[[ 0  1  2  3]\n",
      " [ 4  5  6  7]\n",
      " [ 8  9 10 11]]\n",
      "[[False False False False]\n",
      " [False  True  True  True]\n",
      " [ True  True  True  True]]\n",
      "mod \n",
      " [[ True False  True False]\n",
      " [ True False  True False]\n",
      " [ True False  True False]]\n"
     ]
    }
   ],
   "source": [
    "#relationship operator\n",
    "cl1=np.arange(12).reshape((3,4))\n",
    "print(cl1)\n",
    "print(cl1>4)\n",
    "print(f'mod \\n {cl1%2==0}')"
   ]
  }
 ],
 "metadata": {
  "kernelspec": {
   "display_name": "Python 3",
   "language": "python",
   "name": "python3"
  },
  "language_info": {
   "codemirror_mode": {
    "name": "ipython",
    "version": 3
   },
   "file_extension": ".py",
   "mimetype": "text/x-python",
   "name": "python",
   "nbconvert_exporter": "python",
   "pygments_lexer": "ipython3",
   "version": "3.11.9"
  }
 },
 "nbformat": 4,
 "nbformat_minor": 2
}
