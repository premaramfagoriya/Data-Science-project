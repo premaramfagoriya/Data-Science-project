{
 "cells": [
  {
   "cell_type": "code",
   "execution_count": 2,
   "metadata": {},
   "outputs": [
    {
     "data": {
      "text/plain": [
       "19"
      ]
     },
     "execution_count": 2,
     "metadata": {},
     "output_type": "execute_result"
    }
   ],
   "source": [
    "a= 19\n",
    "a"
   ]
  },
  {
   "cell_type": "code",
   "execution_count": 3,
   "metadata": {},
   "outputs": [
    {
     "name": "stdout",
     "output_type": "stream",
     "text": [
      "<class 'list'>\n",
      "['prem', 'shiv', 'maya', 10, 44, 45.5, 22, 'sunil', 85.5, 92.5, 85.2]\n"
     ]
    }
   ],
   "source": [
    "info = [\"prem\", 'shiv','maya',10,44,45.5,22,'sunil',85.5,92.5,85.2]\n",
    "print(type(info))\n",
    "print(info)\n"
   ]
  },
  {
   "cell_type": "code",
   "execution_count": 4,
   "metadata": {},
   "outputs": [
    {
     "name": "stdout",
     "output_type": "stream",
     "text": [
      "[10, 44, 22]\n",
      "['prem', 'shiv', 'maya', 'sunil']\n",
      "[45.5, 85.5, 92.5, 85.2]\n"
     ]
    }
   ],
   "source": [
    "numbers =[]\n",
    "strings =[]\n",
    "percent = []\n",
    "for i in info:\n",
    "    if type(i)== str:\n",
    "        strings.append(i)\n",
    "    elif type(i)== int:\n",
    "        numbers.append(i)\n",
    "    else :\n",
    "        percent.append(i)\n",
    "print(numbers)\n",
    "print(strings)\n",
    "print(percent)\n"
   ]
  },
  {
   "cell_type": "code",
   "execution_count": 24,
   "metadata": {},
   "outputs": [
    {
     "name": "stdout",
     "output_type": "stream",
     "text": [
      "dictionary is: {'Name': ['prem', 'shiv', 'maya', 'sunil'], 'Numbers': [45, 40, 38, 35], 'Percentage': [90.0, 80.0, 76.0, 70.0]}\n",
      "min number is : 70.0\n",
      "prem score 90.0 is highest \n"
     ]
    }
   ],
   "source": [
    "name=['prem','shiv','maya','sunil']\n",
    "number=[45,40,38,35]\n",
    "percentage=[90.0,80.0,76.0,70.0]\n",
    "dic= { 'Name':name,\n",
    "       'Numbers':number,\n",
    "       'Percentage':percentage\n",
    "}\n",
    "\n",
    "print('dictionary is:',dic)\n",
    "#finding the smallest percent in dict\n",
    "smal=min(dic['Percentage'])\n",
    "print(\"min number is :\",smal)\n",
    "#finding the name of having max percent\n",
    "long=max(dic['Percentage'])\n",
    "na=dic['Name'][dic['Percentage'].index(long)] #declaring as var so that we can print more texts with it\n",
    "print(f'{na} score {long} is highest ')\n"
   ]
  },
  {
   "cell_type": "code",
   "execution_count": 21,
   "metadata": {},
   "outputs": [
    {
     "data": {
      "text/plain": [
       "'prem'"
      ]
     },
     "execution_count": 21,
     "metadata": {},
     "output_type": "execute_result"
    }
   ],
   "source": [
    "long=max(dic['Percentage'])\n",
    "dic['Name'][dic['Percentage'].index(long  )]\n"
   ]
  }
 ],
 "metadata": {
  "kernelspec": {
   "display_name": "Python 3",
   "language": "python",
   "name": "python3"
  },
  "language_info": {
   "codemirror_mode": {
    "name": "ipython",
    "version": 3
   },
   "file_extension": ".py",
   "mimetype": "text/x-python",
   "name": "python",
   "nbconvert_exporter": "python",
   "pygments_lexer": "ipython3",
   "version": "3.11.9"
  }
 },
 "nbformat": 4,
 "nbformat_minor": 2
}
